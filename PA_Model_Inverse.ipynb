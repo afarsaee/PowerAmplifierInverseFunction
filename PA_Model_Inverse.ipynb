{
 "cells": [
  {
   "cell_type": "code",
   "execution_count": 2,
   "metadata": {},
   "outputs": [],
   "source": [
    "# import required packages\n",
    "import tensorflow as tf\n",
    "from tensorflow import keras\n",
    "import numpy as np\n",
    "import scipy.io"
   ]
  },
  {
   "cell_type": "code",
   "execution_count": 3,
   "metadata": {},
   "outputs": [],
   "source": [
    "# read Power Amplifier input data\n",
    "In_file = 'Input_NN_Inverse.mat'\n",
    "In_x = scipy.io.loadmat(In_file)\n",
    "\n",
    "# X_Input has \"n_examples\" rows, and each row is a vector of \"memory_complex_PAs+current_input\" length\n",
    "x_input = np.asarray(In_x['X_Input'])\n",
    "n_examples = len(x_input)\n",
    "\n",
    "# it is assumed the PA has memory_complex_PAs memory, \n",
    "    #thus the output of PA at time t is a function of inputs from time [t:t-memory_complex_PAs]\n",
    "    #memory_complex_PAs = 2 * memory_real_PAs, it means we need previous \" memory_complex_PAs/2\" complex inputs of PA\n",
    "\n",
    "# normalize input for a better training of NN\n",
    "mean_np=np.mean(x_input,axis=None)\n",
    "max_np=np.max(np.abs(x_input),axis=None)\n",
    "x_input=(x_input-mean_np)/(max_np)\n",
    "X_Train = x_input"
   ]
  },
  {
   "cell_type": "code",
   "execution_count": 4,
   "metadata": {},
   "outputs": [],
   "source": [
    "# read Outputs of PA at time t\n",
    "Out_file = 'Output_NN_Inverse.mat'\n",
    "Out_y = scipy.io.loadmat(Out_file)\n",
    "\n",
    "# Y_Output has n_examples rows, and each row is the current output of the PA, which has real and imaginary parts\n",
    "y_output = np.asarray(Out_y['Y_Output'])\n",
    "\n",
    "mean_np_y=np.mean(y_output,axis=None)\n",
    "std_np_y=np.max(np.abs(y_output),axis=None)\n",
    "y_output=(y_output-mean_np_y)/(std_np_y)\n",
    "\n",
    "Y_Train = y_output\n",
    "memory_complex_PAs_plus_current_input = y_output[0].shape"
   ]
  },
  {
   "cell_type": "code",
   "execution_count": 5,
   "metadata": {},
   "outputs": [],
   "source": [
    "# the FC NN has the following layers\n",
    "# input  layer\n",
    "input_shape  = memory_complex_PAs_plus_current_input\n",
    "# hidden layers\n",
    "layer1_nodes = 64\n",
    "layer2_nodes = 16\n",
    "layer3_nodes = 8\n",
    "# output layer\n",
    "N_out_layer  = 2"
   ]
  },
  {
   "cell_type": "code",
   "execution_count": 6,
   "metadata": {},
   "outputs": [],
   "source": [
    "# Defining a model for traning\n",
    "def create_model():\n",
    "# input layer/one hidden layer/output layer/\n",
    "    model = keras.Sequential([\n",
    "    keras.layers.Flatten(input_shape=input_shape),\n",
    "    keras.layers.Dense(layer1_nodes, activation='linear'),                                                    \n",
    "    keras.layers.Dense(layer1_nodes, activation='tanh'),                                                                                                       \n",
    "    keras.layers.Dense(layer2_nodes, activation='tanh'),                                                                                                       \n",
    "    keras.layers.Dense(layer3_nodes, activation='tanh'), \n",
    "    keras.layers.Dense(N_out_layer,  activation='tanh'),\n",
    "    ])    \n",
    "\n",
    "    # setup the optimizer\n",
    "    adm = tf.keras.optimizers.Adam(lr=0.001)\n",
    "    # compile the model\n",
    "    model.compile(optimizer=adm,loss = 'mse',)\n",
    "    return model"
   ]
  },
  {
   "cell_type": "code",
   "execution_count": 7,
   "metadata": {},
   "outputs": [
    {
     "name": "stdout",
     "output_type": "stream",
     "text": [
      "Model: \"sequential\"\n",
      "_________________________________________________________________\n",
      "Layer (type)                 Output Shape              Param #   \n",
      "=================================================================\n",
      "flatten (Flatten)            (None, 12)                0         \n",
      "_________________________________________________________________\n",
      "dense (Dense)                (None, 64)                832       \n",
      "_________________________________________________________________\n",
      "dense_1 (Dense)              (None, 64)                4160      \n",
      "_________________________________________________________________\n",
      "dense_2 (Dense)              (None, 16)                1040      \n",
      "_________________________________________________________________\n",
      "dense_3 (Dense)              (None, 8)                 136       \n",
      "_________________________________________________________________\n",
      "dense_4 (Dense)              (None, 2)                 18        \n",
      "=================================================================\n",
      "Total params: 6,186\n",
      "Trainable params: 6,186\n",
      "Non-trainable params: 0\n",
      "_________________________________________________________________\n",
      "Epoch 1/20\n",
      "3800/3800 [==============================] - 5s 1ms/step - loss: 0.0014 - val_loss: 6.6230e-04\n",
      "Epoch 2/20\n",
      "3800/3800 [==============================] - 5s 1ms/step - loss: 6.3166e-04 - val_loss: 6.2446e-04\n",
      "Epoch 3/20\n",
      "3800/3800 [==============================] - 5s 1ms/step - loss: 5.5729e-04 - val_loss: 5.5862e-04\n",
      "Epoch 4/20\n",
      "3800/3800 [==============================] - 5s 1ms/step - loss: 4.5817e-04 - val_loss: 3.8289e-04\n",
      "Epoch 5/20\n",
      "3800/3800 [==============================] - 5s 1ms/step - loss: 3.1061e-04 - val_loss: 2.4366e-04\n",
      "Epoch 6/20\n",
      "3800/3800 [==============================] - 5s 1ms/step - loss: 2.5327e-04 - val_loss: 2.9142e-04\n",
      "Epoch 7/20\n",
      "3800/3800 [==============================] - 5s 1ms/step - loss: 2.2487e-04 - val_loss: 1.8933e-04\n",
      "Epoch 8/20\n",
      "3800/3800 [==============================] - 5s 1ms/step - loss: 1.7637e-04 - val_loss: 2.0050e-04\n",
      "Epoch 9/20\n",
      "3800/3800 [==============================] - 5s 1ms/step - loss: 1.5685e-04 - val_loss: 1.4338e-04\n",
      "Epoch 10/20\n",
      "3800/3800 [==============================] - 5s 1ms/step - loss: 1.3977e-04 - val_loss: 1.3004e-04\n",
      "Epoch 11/20\n",
      "3800/3800 [==============================] - 5s 1ms/step - loss: 1.3355e-04 - val_loss: 1.8241e-04\n",
      "Epoch 12/20\n",
      "3800/3800 [==============================] - 5s 1ms/step - loss: 1.1771e-04 - val_loss: 1.1592e-04\n",
      "Epoch 13/20\n",
      "3800/3800 [==============================] - 5s 1ms/step - loss: 1.0689e-04 - val_loss: 8.2092e-05\n",
      "Epoch 14/20\n",
      "3800/3800 [==============================] - 5s 1ms/step - loss: 1.0218e-04 - val_loss: 9.3553e-05\n",
      "Epoch 15/20\n",
      "3800/3800 [==============================] - 5s 1ms/step - loss: 9.3335e-05 - val_loss: 1.4053e-04\n",
      "Epoch 16/20\n",
      "3800/3800 [==============================] - 6s 2ms/step - loss: 8.8167e-05 - val_loss: 1.8699e-04\n",
      "Epoch 17/20\n",
      "3800/3800 [==============================] - 5s 1ms/step - loss: 8.5257e-05 - val_loss: 1.1535e-04\n",
      "Epoch 18/20\n",
      "3800/3800 [==============================] - 5s 1ms/step - loss: 8.3526e-05 - val_loss: 7.2674e-05\n",
      "Epoch 19/20\n",
      "3800/3800 [==============================] - 5s 1ms/step - loss: 7.8645e-05 - val_loss: 1.2740e-04\n",
      "Epoch 20/20\n",
      "3800/3800 [==============================] - 5s 1ms/step - loss: 7.6215e-05 - val_loss: 5.7981e-05\n"
     ]
    },
    {
     "data": {
      "text/plain": [
       "<tensorflow.python.keras.callbacks.History at 0x1e7d4f4cb20>"
      ]
     },
     "execution_count": 7,
     "metadata": {},
     "output_type": "execute_result"
    }
   ],
   "source": [
    "# Create a basic model instance\n",
    "model = create_model()\n",
    "\n",
    "# summary of the model\n",
    "model.summary()\n",
    "\n",
    "# Model training\n",
    "epo=20\n",
    "b_size=25\n",
    "model.fit(Y_Train,X_Train, validation_split = 0.05, epochs=epo, batch_size=b_size)"
   ]
  },
  {
   "cell_type": "code",
   "execution_count": 8,
   "metadata": {},
   "outputs": [],
   "source": [
    "# read test input data\n",
    "In_file = 'Input_NN_Test_Inverse.mat'\n",
    "In_x = scipy.io.loadmat(In_file)\n",
    "\n",
    "# X_Input has n_examples rows, and each row is a vector of \"memory_complex_PAs+current_input\" length\n",
    "x_input_Test = np.asarray(In_x['X_Input'])\n",
    "n_examples_Test = len(x_input_Test)\n",
    "\n",
    "# normalize input\n",
    "x_input_Test=(x_input_Test-mean_np)/(max_np)\n",
    "\n",
    "X_Test = x_input_Test"
   ]
  },
  {
   "cell_type": "code",
   "execution_count": 9,
   "metadata": {},
   "outputs": [],
   "source": [
    "# read test Outputs of PA\n",
    "Out_file = 'Output_NN_Test_Inverse.mat'\n",
    "Out_y = scipy.io.loadmat(Out_file)\n",
    "\n",
    "# Y_Output has n_examples rows, and each row is the current output of the PA\n",
    "y_output_Test = np.asarray(Out_y['Y_Output'])\n",
    "\n",
    "# normalize measured output data\n",
    "y_output_Test=(y_output_Test-mean_np_y)/(std_np_y)\n",
    "\n",
    "Y_Test = y_output_Test\n",
    "\n",
    "# find the estimated output from the model\n",
    "X_hat = model.predict(Y_Test)"
   ]
  },
  {
   "cell_type": "code",
   "execution_count": 12,
   "metadata": {},
   "outputs": [
    {
     "name": "stdout",
     "output_type": "stream",
     "text": [
      "MSE is:  4.946422374644198e-05\n"
     ]
    }
   ],
   "source": [
    "# find the MSE of NN and the measured data\n",
    "MSE_Model = np.square(np.abs(X_hat-X_Test)).mean(axis = None)\n",
    "print('MSE is: ',MSE_Model)"
   ]
  },
  {
   "cell_type": "code",
   "execution_count": 13,
   "metadata": {},
   "outputs": [],
   "source": [
    "# find the absolute value of the NN output\n",
    "X_real_hat = X_hat[:,0]\n",
    "X_imag_hat = X_hat[:,1]\n",
    "X_abs_hat = np.sqrt(np.square(X_imag_hat) + np.square(X_real_hat))\n",
    "\n",
    "# find the absolute value of the measured data\n",
    "X_real = X_Test[:,0]\n",
    "X_imag = X_Test[:,1]\n",
    "X_abs_Test = np.sqrt(np.square(X_imag) + np.square(X_real))"
   ]
  },
  {
   "cell_type": "code",
   "execution_count": 14,
   "metadata": {},
   "outputs": [
    {
     "data": {
      "image/png": "[encoded data removed]",
      "text/plain": [
       "<Figure size 432x288 with 1 Axes>"
      ]
     },
     "metadata": {
      "needs_background": "light"
     },
     "output_type": "display_data"
    }
   ],
   "source": [
    "# plot the measured absolute value of the output over the estimated abs\n",
    "import matplotlib.pyplot as plt\n",
    "plt.plot(np.abs(X_abs_hat),np.abs(X_abs_Test),'.')\n",
    "plt.ylabel('Measurements')\n",
    "plt.xlabel('Estimation')\n",
    "plt.title('Abs output: measurements vs. estimated')\n",
    "plt.show()"
   ]
  },
  {
   "cell_type": "code",
   "execution_count": 23,
   "metadata": {},
   "outputs": [
    {
     "name": "stdout",
     "output_type": "stream",
     "text": [
      "ACLR is : 0.008793950496947442\n"
     ]
    },
    {
     "data": {
      "image/png": "[encoded data removed]",
      "text/plain": [
       "<Figure size 432x288 with 1 Axes>"
      ]
     },
     "metadata": {
      "needs_background": "light"
     },
     "output_type": "display_data"
    }
   ],
   "source": [
    "# plot the spectrum of the estimated NN output\n",
    "X_hat_complex = X_real_hat + 1j * X_imag_hat\n",
    "X_hat_complex = np.array(X_hat_complex)\n",
    "fft_x_hat = np.fft.fftshift(np.fft.fft(X_hat_complex))\n",
    "fft_x_hat_log10 = 10*np.log10(fft_x_hat)\n",
    "plt.plot(np.abs(fft_x_hat_log10))\n",
    "plt.ylabel('abs(fft)')\n",
    "plt.xlabel('freq.')\n",
    "plt.title('Spectrum of the \"estimated\" Input using measured data using designed NN')\n",
    "\n",
    "# find the ACPR of the NN\n",
    "fft_abs_channel = np.sum(np.square(np.abs(fft_x_hat[450:550])))\n",
    "a = fft_x_hat[1:449]\n",
    "a = np.append(a,fft_x_hat[551:])\n",
    "fft_abs_adj     = np.sum(np.square(np.abs(a)))\n",
    "ACLR = fft_abs_adj/fft_abs_channel\n",
    "print('ACLR is :',ACLR)"
   ]
  },
  {
   "cell_type": "code",
   "execution_count": 22,
   "metadata": {},
   "outputs": [
    {
     "name": "stdout",
     "output_type": "stream",
     "text": [
      "ACLR is : 0.008489192980442196\n"
     ]
    },
    {
     "data": {
      "image/png": "[encoded data removed]",
      "text/plain": [
       "<Figure size 432x288 with 1 Axes>"
      ]
     },
     "metadata": {
      "needs_background": "light"
     },
     "output_type": "display_data"
    }
   ],
   "source": [
    "# plot the spectrum of the PA\n",
    "X_complex_meas = X_real + 1j * X_imag\n",
    "X_complex_meas = np.array(X_complex_meas)\n",
    "fft_x_meas = np.fft.fftshift(np.fft.fft(X_complex_meas))\n",
    "fft_x_meas_log10 = 10*np.log10(fft_x_meas)\n",
    "plt.plot(np.abs(fft_x_meas_log10))\n",
    "plt.ylabel('abs(fft)')\n",
    "plt.xlabel('freq.')\n",
    "plt.title('Spectrum of the \"actual\" input')\n",
    "\n",
    "# find the ACPR of the PA\n",
    "fft_abs_channel = np.sum(np.square(np.abs(fft_x_meas[450:550])))\n",
    "a = fft_x_meas[1:449]\n",
    "a = np.append(a,fft_x_meas[551:])\n",
    "fft_abs_adj     = np.sum(np.square(np.abs(a)))\n",
    "ACLR = fft_abs_adj/fft_abs_channel\n",
    "print('ACLR is :',ACLR)"
   ]
  },
  {
   "cell_type": "code",
   "execution_count": null,
   "metadata": {},
   "outputs": [],
   "source": []
  }
 ],
 "metadata": {
  "kernelspec": {
   "display_name": "Python 3",
   "language": "python",
   "name": "python3"
  },
  "language_info": {
   "codemirror_mode": {
    "name": "ipython",
    "version": 3
   },
   "file_extension": ".py",
   "mimetype": "text/x-python",
   "name": "python",
   "nbconvert_exporter": "python",
   "pygments_lexer": "ipython3",
   "version": "3.8.5"
  }
 },
 "nbformat": 4,
 "nbformat_minor": 4
}
